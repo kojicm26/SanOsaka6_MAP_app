{
 "cells": [
  {
   "cell_type": "code",
   "execution_count": null,
   "id": "6a2a0039-5b9d-44b8-9e90-f4c5bc97896f",
   "metadata": {},
   "outputs": [],
   "source": [
    "# https://docs.streamlit.io/knowledge-base/tutorials/databases/public-gsheet"
   ]
  },
  {
   "cell_type": "code",
   "execution_count": null,
   "id": "ece9463f-ca3c-41f5-b6b4-a10007f37a1e",
   "metadata": {},
   "outputs": [],
   "source": []
  },
  {
   "cell_type": "code",
   "execution_count": 1,
   "id": "89898cfc-aa77-43ca-9a6d-9114d2867047",
   "metadata": {
    "tags": []
   },
   "outputs": [],
   "source": [
    "import streamlit as st"
   ]
  },
  {
   "cell_type": "code",
   "execution_count": 2,
   "id": "8305f3f1-033f-4c74-9ea6-3aa49951a7ae",
   "metadata": {
    "tags": []
   },
   "outputs": [],
   "source": [
    "from streamlit_gsheets import GSheetsConnection"
   ]
  },
  {
   "cell_type": "code",
   "execution_count": 12,
   "id": "baf26397-0b1a-423c-a1b9-b5aa140b50a6",
   "metadata": {
    "tags": []
   },
   "outputs": [],
   "source": [
    "# Create a connection object.\n",
    "\n",
    "conn = st.connection(\"gsheets\", type=GSheetsConnection)"
   ]
  },
  {
   "cell_type": "code",
   "execution_count": 13,
   "id": "f5209f9d-b0a8-44f8-9cd4-8f9056c5bea1",
   "metadata": {
    "tags": []
   },
   "outputs": [
    {
     "name": "stderr",
     "output_type": "stream",
     "text": [
      "2023-11-20 14:24:46.583 No runtime found, using MemoryCacheStorageManager\n"
     ]
    }
   ],
   "source": [
    "df = conn.read()"
   ]
  },
  {
   "cell_type": "code",
   "execution_count": 14,
   "id": "266fb88c-03ee-4083-8972-e4891fd5e557",
   "metadata": {},
   "outputs": [
    {
     "data": {
      "text/html": [
       "<div>\n",
       "<style scoped>\n",
       "    .dataframe tbody tr th:only-of-type {\n",
       "        vertical-align: middle;\n",
       "    }\n",
       "\n",
       "    .dataframe tbody tr th {\n",
       "        vertical-align: top;\n",
       "    }\n",
       "\n",
       "    .dataframe thead th {\n",
       "        text-align: right;\n",
       "    }\n",
       "</style>\n",
       "<table border=\"1\" class=\"dataframe\">\n",
       "  <thead>\n",
       "    <tr style=\"text-align: right;\">\n",
       "      <th></th>\n",
       "      <th>name</th>\n",
       "      <th>pet</th>\n",
       "    </tr>\n",
       "  </thead>\n",
       "  <tbody>\n",
       "    <tr>\n",
       "      <th>0</th>\n",
       "      <td>Mary</td>\n",
       "      <td>dog</td>\n",
       "    </tr>\n",
       "    <tr>\n",
       "      <th>1</th>\n",
       "      <td>John</td>\n",
       "      <td>cat</td>\n",
       "    </tr>\n",
       "    <tr>\n",
       "      <th>2</th>\n",
       "      <td>Robert</td>\n",
       "      <td>bird</td>\n",
       "    </tr>\n",
       "  </tbody>\n",
       "</table>\n",
       "</div>"
      ],
      "text/plain": [
       "     name   pet\n",
       "0    Mary   dog\n",
       "1    John   cat\n",
       "2  Robert  bird"
      ]
     },
     "execution_count": 14,
     "metadata": {},
     "output_type": "execute_result"
    }
   ],
   "source": [
    "df"
   ]
  },
  {
   "cell_type": "code",
   "execution_count": null,
   "id": "d1eb3119-fe38-4ae8-819a-402c29ba6d17",
   "metadata": {},
   "outputs": [],
   "source": []
  },
  {
   "cell_type": "code",
   "execution_count": null,
   "id": "08713b93-858c-452a-ae93-4b7af99bf155",
   "metadata": {},
   "outputs": [],
   "source": [
    "# Print results.\n",
    "for row in df.itertuples():\n",
    "    st.write(f\"{row.name} has a :{row.pet}:\")"
   ]
  },
  {
   "cell_type": "code",
   "execution_count": null,
   "id": "9976c8a4-c536-46cc-b045-a24b93d7f27f",
   "metadata": {},
   "outputs": [],
   "source": []
  },
  {
   "cell_type": "code",
   "execution_count": null,
   "id": "6cb9845e-e26e-40af-9c5e-082d28ea090b",
   "metadata": {},
   "outputs": [],
   "source": []
  },
  {
   "cell_type": "code",
   "execution_count": null,
   "id": "0fcb0e79-bfa8-4557-9c25-70323dded8e5",
   "metadata": {},
   "outputs": [],
   "source": []
  },
  {
   "cell_type": "code",
   "execution_count": null,
   "id": "344b716b-cbe5-4305-bbc2-f24ea5b49a5c",
   "metadata": {},
   "outputs": [],
   "source": []
  },
  {
   "cell_type": "code",
   "execution_count": null,
   "id": "b492faf0-e2d4-4fa3-936a-f70ae40153cf",
   "metadata": {},
   "outputs": [],
   "source": []
  },
  {
   "cell_type": "code",
   "execution_count": null,
   "id": "24863a4a-dfec-408b-a5b9-26696b570bde",
   "metadata": {},
   "outputs": [],
   "source": []
  }
 ],
 "metadata": {
  "kernelspec": {
   "display_name": "Python 3 (ipykernel)",
   "language": "python",
   "name": "python3"
  },
  "language_info": {
   "codemirror_mode": {
    "name": "ipython",
    "version": 3
   },
   "file_extension": ".py",
   "mimetype": "text/x-python",
   "name": "python",
   "nbconvert_exporter": "python",
   "pygments_lexer": "ipython3",
   "version": "3.11.5"
  }
 },
 "nbformat": 4,
 "nbformat_minor": 5
}
